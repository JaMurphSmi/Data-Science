{
 "cells": [
  {
   "cell_type": "markdown",
   "metadata": {},
   "source": [
    "<div align=center><h3>Goal Number 4</h3></div>\n",
    "<div align=center>Within this Notebook I will be exploring the distribution and opinion of developers regarding their career satisfaction based on a variety of potentially influential fields, these will include such facets as the ability to work remotely from their place of employment, the auditory environment present in their place of work, a given employee's starting time, and potentially their current job satisfaction. All this is intended identify if any or none of these fields have any positive or negaive correlations with a developer's overall career satisfaction</div>"
   ]
  },
  {
   "cell_type": "code",
   "execution_count": null,
   "metadata": {},
   "outputs": [],
   "source": [
    "import numpy as np # linear algebra\n",
    "import pandas as pd # data processing, CSV file I/O (e.g. pd.read_csv)\n",
    "from pandas.plotting import scatter_matrix\n",
    "import plotly as pltly\n",
    "import plotly.plotly as py\n",
    "import plotly.graph_objs as go\n",
    "from plotly import tools\n",
    "from plotly.offline import iplot, init_notebook_mode\n",
    "#init_notebook_mode(connected=True)\n",
    "import pycountry\n",
    "import matplotlib.pyplot as plt\n",
    "from sklearn.linear_model import LinearRegression\n",
    "pltly.tools.set_credentials_file(username='JakeMurphDS1718', api_key='VzF5mDLdeJvs2Jt9e1yR')\n",
    "%matplotlib inline \n",
    "# will be based on Work remote, jobsatisfaction, hoursworked, start time, auditory environment, career satisfaction\n",
    "# job satisfaction etc, compare 2012-2017\n",
    "\n",
    "surveyAnswers = pd.read_csv('C:/Users/jakem/Desktop/Data_Sets/survey_results_public.csv')"
   ]
  },
  {
   "cell_type": "code",
   "execution_count": null,
   "metadata": {},
   "outputs": [],
   "source": [
    "worldMap = {country.name: country.alpha3 for country in pycountry.countries}\n",
    "worldMapDataList = []\n",
    "\n",
    "for country in worldMap:\n",
    "    worldMapData = {'Country': country, 'Code': worldMap[country], 'Total': (surveyAnswers.Country == country).sum(), \n",
    "            '10' : str(len(surveyAnswers[(surveyAnswers['Country']== country) & (surveyAnswers['JobSatisfaction']==10)])),\n",
    "            '9' : str(len(surveyAnswers[(surveyAnswers['Country']== country) & (surveyAnswers['JobSatisfaction']==9)])),\n",
    "            '8' : str(len(surveyAnswers[(surveyAnswers['Country']== country) & (surveyAnswers['JobSatisfaction']==8)])),\n",
    "            '7' : str(len(surveyAnswers[(surveyAnswers['Country']== country) & (surveyAnswers['JobSatisfaction']==7)])),\n",
    "            '6' : str(len(surveyAnswers[(surveyAnswers['Country']== country) & (surveyAnswers['JobSatisfaction']==6)])),\n",
    "            '5' : str(len(surveyAnswers[(surveyAnswers['Country']== country) & (surveyAnswers['JobSatisfaction']==5)])),\n",
    "            '4' : str(len(surveyAnswers[(surveyAnswers['Country']== country) & (surveyAnswers['JobSatisfaction']==4)])),\n",
    "            '3' : str(len(surveyAnswers[(surveyAnswers['Country']== country) & (surveyAnswers['JobSatisfaction']==3)])),\n",
    "            '2' : str(len(surveyAnswers[(surveyAnswers['Country']== country) & (surveyAnswers['JobSatisfaction']==2)])),\n",
    "            '1' : str(len(surveyAnswers[(surveyAnswers['Country']== country) & (surveyAnswers['JobSatisfaction']==1)])),\n",
    "            '0' : str(len(surveyAnswers[(surveyAnswers['Country']== country) & (surveyAnswers['JobSatisfaction']==0)])),\n",
    "            'NA': str(len(surveyAnswers[(surveyAnswers['Country']== country) & (surveyAnswers['JobSatisfaction'].isnull())]))}\n",
    "    worldMapDataList.append(worldMapData)\n",
    "    \n",
    "df = pd.DataFrame(worldMapDataList) # creating panda object"
   ]
  },
  {
   "cell_type": "code",
   "execution_count": null,
   "metadata": {},
   "outputs": [],
   "source": [
    "df['firstVersion'] = df['Country'] + \"<br>10 : \" + df['10'] + \"<br>9 : \" + df['9'] + \"<br>8 : \" + df['8'] + \"<br>7 : \" \\\n",
    "                    + df['7'] + \"<br>6 : \" + df['6'] + \"<br>5 : \" + df['5'] + \"<br>4 : \" + df['4'] + \"<br>3 : \" + df['3'] \\\n",
    "                    + \"<br>2 : \" + df['2'] + \"<br>1 : \" + df['1'] + \"<br>0 : \" + df['0'] + \"<br>NA : \" + df['NA'] \n",
    "\n",
    "data = [ dict(\n",
    "        type = 'choropleth',\n",
    "        locations = df['Code'],\n",
    "        z = df['Total'],\n",
    "        text = df['firstVersion'],\n",
    "        colorscale = [[0,\"rgb(0,100,0)\"],[0.35,\"rgb(34,139,34)\"],[0.5,\"rgb(50,205,50)\"],\\\n",
    "            [0.6,\"rgb(124,252,0)\"],[0.7,\"rgb(173,255,47)\"],[1,\"rgb(200,250,200)\"]],\n",
    "        autocolorscale = False,\n",
    "        reversescale = True,\n",
    "        marker = dict(\n",
    "            line = dict (\n",
    "                color = 'rgb(180,180,180)',\n",
    "                width = 0.5\n",
    "            ) ),\n",
    "        colorbar = dict(\n",
    "            autotick = False,\n",
    "            tickprefix = '',\n",
    "            title = 'Respondents<br>Thousands'),\n",
    "      ) ]\n",
    "\n",
    "layout = dict(\n",
    "    title = '2017 Stackoverflow Job Satisfaction<br>Dataset Available @ \\\n",
    "            <a href=\"https://insights.stackoverflow.com/survey/\">\\\n",
    "            Stack Overflow Annual Developer Survey</a>',\n",
    "    geo = dict(\n",
    "        showframe = False,\n",
    "        showlakes = True,\n",
    "        lakecolor = \"rgb(55, 255, 255)\",\n",
    "        showcoastlines = True,\n",
    "        projection = dict(\n",
    "            type = 'orthographic'\n",
    "        )\n",
    "    )\n",
    ")\n",
    "\n",
    "fig = dict( data=data, layout=layout )\n",
    "py.iplot( fig, validate=False)"
   ]
  },
  {
   "cell_type": "code",
   "execution_count": null,
   "metadata": {},
   "outputs": [],
   "source": [
    "#cleaning up the dataset for goal \n",
    "#surveyAnswers = surveyAnswers[surveyAnswers.JobSatisfaction.notnull()]\n",
    "surveyAnswers\n",
    "surveyAnswers = surveyAnswers[surveyAnswers.CareerSatisfaction.notnull()]\n",
    "\n",
    "surveyAnswers['HomeRemote'] = surveyAnswers['HomeRemote'].replace('All or almost all the time (I\\'m full-time remote)',7)\n",
    "surveyAnswers['HomeRemote'] = surveyAnswers['HomeRemote'].replace('More than half, but not all, the time', 6)\n",
    "surveyAnswers['HomeRemote'] = surveyAnswers['HomeRemote'].replace('About half the time', 5)\n",
    "surveyAnswers['HomeRemote'] = surveyAnswers['HomeRemote'].replace('Less than half the time, but at least one day each week', 4)\n",
    "surveyAnswers['HomeRemote'] = surveyAnswers['HomeRemote'].replace('A few days each month', 3)\n",
    "surveyAnswers['HomeRemote'] = surveyAnswers['HomeRemote'].replace('It\\'s complicated', 2)\n",
    "surveyAnswers['HomeRemote'] = surveyAnswers['HomeRemote'].replace('Never', 1)\n",
    "surveyAnswers = surveyAnswers[surveyAnswers.HomeRemote.notnull()]\n",
    "\n",
    "#X = surveyAnswers['HomeRemote'].values[:,np.newaxis]\n",
    "X = surveyAnswers['CareerSatisfaction'].values[:,np.newaxis]\n",
    "#, 'AssessJobRemote'\n",
    "y = surveyAnswers['HomeRemote'].values\n",
    "\n",
    "model = LinearRegression()\n",
    "\n",
    "model.fit(X, y)\n",
    "###############################"
   ]
  },
  {
   "cell_type": "code",
   "execution_count": null,
   "metadata": {},
   "outputs": [],
   "source": [
    "plt.scatter(X, y,color='b')\n",
    "\n",
    "plt.title('Career Satisfaction vs Working Remotely')  \n",
    "plt.xlabel('Career Satisfaction')  \n",
    "plt.ylabel('Working Remotely')\n",
    "\n",
    "plt.plot(X, model.predict(X),color='k')\n",
    "\n",
    "plt.show()"
   ]
  },
  {
   "cell_type": "markdown",
   "metadata": {},
   "source": [
    "<div><h3>Career Satisfaction vs Time Working Remote<h3></div>\n",
    "<div>The results of this linear regression test show that there is a relation between working remotely and job satisfaction, wherein it can be said that if a person works remotely a few days each month, they will have a greater sense of career satisfaction.<br>\n",
    "This correlation is justifiable, as it provides an insight into internal values of a developer. This may infer that through the allowance of a developer to work from home, the developer is shown that their employer has confidence in their ability to work and create software, work to deadlines etc, on their own initiative. This trust would naturally have a positive impact on the outlook of the employee and result in a more positive experience</div>"
   ]
  },
  {
   "cell_type": "code",
   "execution_count": null,
   "metadata": {},
   "outputs": [],
   "source": [
    "surveyAnswers['WorkStart'] = surveyAnswers['WorkStart'].replace('Midnight', 24)\n",
    "surveyAnswers['WorkStart'] = surveyAnswers['WorkStart'].replace('11:00 pm', 23)\n",
    "surveyAnswers['WorkStart'] = surveyAnswers['WorkStart'].replace('10:00 pm', 22)\n",
    "surveyAnswers['WorkStart'] = surveyAnswers['WorkStart'].replace('9:00 pm', 21)\n",
    "surveyAnswers['WorkStart'] = surveyAnswers['WorkStart'].replace('8:00 pm', 20)\n",
    "surveyAnswers['WorkStart'] = surveyAnswers['WorkStart'].replace('7:00 pm', 19)\n",
    "surveyAnswers['WorkStart'] = surveyAnswers['WorkStart'].replace('6:00 pm', 18)\n",
    "surveyAnswers['WorkStart'] = surveyAnswers['WorkStart'].replace('5:00 pm', 17)\n",
    "surveyAnswers['WorkStart'] = surveyAnswers['WorkStart'].replace('4:00 pm', 16)\n",
    "surveyAnswers['WorkStart'] = surveyAnswers['WorkStart'].replace('3:00 pm', 15)\n",
    "surveyAnswers['WorkStart'] = surveyAnswers['WorkStart'].replace('2:00 pm', 14)\n",
    "surveyAnswers['WorkStart'] = surveyAnswers['WorkStart'].replace('1:00 pm', 13)\n",
    "surveyAnswers['WorkStart'] = surveyAnswers['WorkStart'].replace('Noon', 12)\n",
    "surveyAnswers['WorkStart'] = surveyAnswers['WorkStart'].replace('11:00 am', 11)\n",
    "surveyAnswers['WorkStart'] = surveyAnswers['WorkStart'].replace('10:00 am', 10)\n",
    "surveyAnswers['WorkStart'] = surveyAnswers['WorkStart'].replace('9:00 am', 9)\n",
    "surveyAnswers['WorkStart'] = surveyAnswers['WorkStart'].replace('8:00 am', 8)\n",
    "surveyAnswers['WorkStart'] = surveyAnswers['WorkStart'].replace('7:00 am', 7)\n",
    "surveyAnswers['WorkStart'] = surveyAnswers['WorkStart'].replace('6:00 am', 6)\n",
    "surveyAnswers['WorkStart'] = surveyAnswers['WorkStart'].replace('5:00 am', 5)\n",
    "surveyAnswers['WorkStart'] = surveyAnswers['WorkStart'].replace('4:00 am', 4)\n",
    "surveyAnswers['WorkStart'] = surveyAnswers['WorkStart'].replace('3:00 am', 3)\n",
    "surveyAnswers['WorkStart'] = surveyAnswers['WorkStart'].replace('2:00 am', 2)\n",
    "surveyAnswers['WorkStart'] = surveyAnswers['WorkStart'].replace('1:00 am', 1)\n",
    "surveyAnswers = surveyAnswers[surveyAnswers.WorkStart.notnull()]\n",
    "\n",
    "X = surveyAnswers['WorkStart'].values[:,np.newaxis]\n",
    "#, 'AssessJobRemote'\n",
    "y = surveyAnswers['CareerSatisfaction'].values\n",
    "\n",
    "model = LinearRegression()\n",
    "\n",
    "model.fit(X, y)"
   ]
  },
  {
   "cell_type": "code",
   "execution_count": null,
   "metadata": {},
   "outputs": [],
   "source": [
    "plt.scatter(X, y,color='b')\n",
    "\n",
    "plt.title('Career Satisfaction vs Starting Time')  \n",
    "plt.xlabel('Starting Time')  \n",
    "plt.ylabel('Career Satisfaction')\n",
    "\n",
    "plt.plot(X, model.predict(X),color='k')\n",
    "\n",
    "plt.show()"
   ]
  },
  {
   "cell_type": "markdown",
   "metadata": {},
   "source": [
    "<div><h3>Career Satisfaction vs Starting Time</h3></div>\n",
    "<div>The results of this linear regression test show that there is not a substantial influence, however there is a negative correlation between an employee's start time, and their overall career satisfaction. <br>This may be due to the fact that earlier mornings allow for earlier end times. As an example, in a situation of a 7.5 hour work day, a start of 7am, which results in a career satisfaction of ~7.7, will end at 2:30pm in the day. <br>In this situation it allows a developer an opportunity to also avail of daytime facilities at their leisure, which may naturally allow improved opinion of their overall situation.<br>\n",
    "This is counter to a start time that is later in the day, such as 3pm etc will result in an end time of 10:30pm.<br> This outcome correlates with a lesser satisfaction score due to the fact that at this time a developer may reap the rewards of early morning activities, however be later restricted and very limited in their options. This limitation, and proximity to their bedtime, give them too much a sense of an awake -> work -> sleep regime</div>"
   ]
  },
  {
   "cell_type": "code",
   "execution_count": null,
   "metadata": {},
   "outputs": [],
   "source": [
    "surveyAnswers = pd.read_csv('C:/Users/jakem/Desktop/Data_Sets/survey_results_public.csv')\n",
    " \n",
    "surveyAnswers = surveyAnswers[surveyAnswers.Salary.notnull()]\n",
    "surveyAnswers = surveyAnswers[surveyAnswers.CareerSatisfaction.notnull()]\n",
    "#surveyAnswers = surveyAnswers[surveyAnswers['CareerSatisfaction']>0]\n",
    "Salary = surveyAnswers['Salary']\n",
    "CareerSatisfaction = surveyAnswers['CareerSatisfaction']\n",
    "#x = Salary[:, np.newaxis]\n",
    "x = CareerSatisfaction[:, np.newaxis]\n",
    "#y = CareerSatisfaction\n",
    "y = Salary\n",
    "reg = LinearRegression()\n",
    "reg.fit(x,y)\n",
    "y_pred = reg.predict(x)\n",
    "residual = y - y_pred\n",
    "plt.title('Career Satisfaction vs Salary')  \n",
    "plt.xlabel('Career Satisfaction')  \n",
    "plt.ylabel('Salary')\n",
    "plt.scatter(x,residual)"
   ]
  },
  {
   "cell_type": "markdown",
   "metadata": {},
   "source": [
    "<div><h3>Career Satisfaction by Salary</h3></div>\n",
    "<div>The above diagram shows the dispersion of values from the survey relative to the career satisfaction of the particular developer. This relation shows, given by the clustering of values at the higher salary values, that in general the higher a developer's salary is, the more likely they are to be satisfied with their careers. And similarly, the lower the developer's salary is, the less satisfied with their careers they will be.<br>\n",
    "The outliers with higher or lower salaries at respective ends of the scale may have lower or higher career satisfaction scores based on the country of residence. A developer living in the likes of Poland, due to a general lower cost of living, may find greater satisfaction in a lower salary, while a developer in a place with cost of living such as Tokyo may require a much higher salary to achieve the same level of satisfaction.<br>\n",
    "The causality behind the lower overall happiness may also stem from the relative stress and responsibility that certain positions place on a particular employee</div>"
   ]
  },
  {
   "cell_type": "code",
   "execution_count": null,
   "metadata": {},
   "outputs": [],
   "source": [
    "##career vs job satisfaction\n",
    "surveyAnswers = surveyAnswers[surveyAnswers.JobSatisfaction.notnull()]\n",
    "\n",
    "#X = surveyAnswers['HomeRemote'].values[:,np.newaxis]\n",
    "X = surveyAnswers['CareerSatisfaction'].values[:,np.newaxis]\n",
    "#, 'AssessJobRemote'\n",
    "y = surveyAnswers['JobSatisfaction'].values\n",
    "\n",
    "model = LinearRegression()\n",
    "\n",
    "model.fit(X, y)"
   ]
  },
  {
   "cell_type": "code",
   "execution_count": null,
   "metadata": {},
   "outputs": [],
   "source": [
    "plt.scatter(X, y,color='b')\n",
    "\n",
    "plt.plot(X, model.predict(X),color='k')\n",
    "\n",
    "plt.title('Career Satisfaction vs Job Satisfaction')  \n",
    "plt.xlabel('Job Satisfaction')  \n",
    "plt.ylabel('Career Satisfaction')\n",
    "\n",
    "plt.show()"
   ]
  },
  {
   "cell_type": "markdown",
   "metadata": {},
   "source": [
    "<div><h3>Career Satisfaction vs Job Satisfaction</h3></div>\n",
    "<div>The above diagram shows the association between job satisfaction and career satisfaction. As one may expect, these two are almost directly correlated and influential upon each other, where a developer with a poor opinion of their current job will have a poor opinion of their career, and inverse. While the overwhelming trend, as given by the results above, indicate that a developer that is happy or unhappy in their current job position <b>will</b> also have a likewise positive or negative opinion of their overall career, there are outliers diagonally above and below the line of prediction. These values may be taken as potential false answers, or may be an indication that while a person may be fully satisfied with their current job, they may have severe worries with regards to their future career options, or similarly on the opposing side of the spectrum, there may be a developer who is appalled by the awful situation of their current job, but may have had an incredibly fulfilling career up to that point.</div>"
   ]
  },
  {
   "cell_type": "code",
   "execution_count": null,
   "metadata": {},
   "outputs": [],
   "source": [
    "\n",
    "surveyAnswers['AuditoryEnvironment'] = surveyAnswers['AuditoryEnvironment'].replace('Put on a movie or TV show', 5)\n",
    "surveyAnswers['AuditoryEnvironment'] = surveyAnswers['AuditoryEnvironment'].replace('Turn on some music', 4)\n",
    "surveyAnswers['AuditoryEnvironment'] = surveyAnswers['AuditoryEnvironment'].replace('Turn on the news or talk radio', 3)\n",
    "surveyAnswers['AuditoryEnvironment'] = surveyAnswers['AuditoryEnvironment'].replace('Put on some ambient sounds (e.g. whale songs, forest sounds)', 2)\n",
    "surveyAnswers['AuditoryEnvironment'] = surveyAnswers['AuditoryEnvironment'].replace('Keep the room absolutely quiet', 1)\n",
    "surveyAnswers['AuditoryEnvironment'] = surveyAnswers['AuditoryEnvironment'].replace('Something else', 0)\n",
    "\n",
    "surveyAnswers = surveyAnswers[surveyAnswers.AuditoryEnvironment.notnull()]\n",
    "surveyAnswers = surveyAnswers[surveyAnswers.CareerSatisfaction.notnull()]\n",
    "\n",
    "\n",
    "\n",
    "X = surveyAnswers['AuditoryEnvironment'].values[:,np.newaxis]\n",
    "#y = CareerSatisfaction\n",
    "y = surveyAnswers['CareerSatisfaction'].values\n",
    "\n",
    "model = LinearRegression()\n",
    "\n",
    "model.fit(X, y)\n",
    "\n",
    "plt.scatter(X, y,color='b')\n",
    "\n",
    "plt.plot(X, model.predict(X),color='k')\n",
    "\n",
    "plt.title('Career Satisfaction vs Auditory Environment')  \n",
    "plt.xlabel('Auditory Environment')  \n",
    "plt.ylabel('Career Satisfaction')\n",
    "\n",
    "plt.show()\n"
   ]
  },
  {
   "cell_type": "markdown",
   "metadata": {},
   "source": [
    "<div><h3>Career Satisfaction vs Auditory Environment</h3></div>\n",
    "<div>The above linear regression graph shows that there is a very slight positive correlation between the auditory environment a developer is exposed to, and their overall career satisfaction. This could be due to the fact that a rather large amount of individuals find it easier to concentrate and work in an environment with a moderate amount of sound. This consistent background ambient noise would serve to fill a developer's auditory channels and allow them to focus their efforts into their work, and also the addition of some pleasant noise to a workplace would greatly serve to improve an individual's mood and in turn their overall enjoyment of their career.</div>"
   ]
  },
  {
   "cell_type": "code",
   "execution_count": null,
   "metadata": {},
   "outputs": [],
   "source": [
    "surveyAnswers['LearningNewTech'] = surveyAnswers['LearningNewTech'].replace('Strongly agree', 5)\n",
    "surveyAnswers['LearningNewTech'] = surveyAnswers['LearningNewTech'].replace('Agree', 4)\n",
    "surveyAnswers['LearningNewTech'] = surveyAnswers['LearningNewTech'].replace('Somewhat agree', 3)\n",
    "surveyAnswers['LearningNewTech'] = surveyAnswers['LearningNewTech'].replace('Disagree', 2)\n",
    "surveyAnswers['LearningNewTech'] = surveyAnswers['LearningNewTech'].replace('Strongly disagree', 1)\n",
    "surveyAnswers = surveyAnswers[surveyAnswers.LearningNewTech.notnull()]\n",
    "\n",
    "X = surveyAnswers['LearningNewTech'].values[:,np.newaxis]\n",
    "#y = CareerSatisfaction\n",
    "y = surveyAnswers['CareerSatisfaction'].values\n",
    "\n",
    "model = LinearRegression()\n",
    "\n",
    "model.fit(X, y)\n",
    "\n",
    "plt.scatter(X, y,color='b')\n",
    "\n",
    "plt.plot(X, model.predict(X),color='k')\n",
    "\n",
    "plt.title('Career Satisfaction vs Learning New Technology')  \n",
    "plt.xlabel('Learning New Technology')  \n",
    "plt.ylabel('Career Satisfaction')\n",
    "\n",
    "plt.show()"
   ]
  },
  {
   "cell_type": "markdown",
   "metadata": {},
   "source": [
    "<div><h3>Career Satisfaction vs Learning New Technology</h3></div>\n",
    "<div>The above linear regression graph shows that there is a very slight positive correlation between a developer's overall career satisfaction and their attitude towards the learning of new programming languages. This correlation suggests that the more open a programmer is to the learning of a language, the more satisfied they may be in their overall career due to the potential opportunities the learning of a new language could provide to them. On a more personal level this could be due to the sense of self-fulfilment for a developer upon becoming multilingual and expanding the amount of technology open to them that they can tinker with in their free time.</div>"
   ]
  },
  {
   "cell_type": "code",
   "execution_count": null,
   "metadata": {},
   "outputs": [],
   "source": [
    "#the creation of this plot is too heavy duty and will substantially slow the machines of users with low RAM\n",
    "#instead rendered the image to the code below\n",
    "\n",
    "#import plotly.plotly as py\n",
    "#import plotly.figure_factory as ff\n",
    "\n",
    "#import numpy as np\n",
    "\n",
    "# Add histogram data\n",
    "#x1 = surveyAnswers[\"CareerSatisfaction\"]  \n",
    "#x2 = surveyAnswers[\"JobSatisfaction\"]  \n",
    "#x3 = surveyAnswers[\"AuditoryEnvironment\"]\n",
    "#x4 = surveyAnswers[\"LearningNewTech\"]  \n",
    "\n",
    "# Group data together\n",
    "#hist_data = [x1, x2, x3, x4]\n",
    "\n",
    "#group_labels = ['Career Satisfaction', 'Job Satisfaction', 'Auditory Environment', 'Learning New Technology']\n",
    "\n",
    "# Create distplot with custom bin_size\n",
    "#fig = ff.create_distplot(hist_data, group_labels, bin_size=.2)\n",
    "\n",
    "#py.iplot(fig, filename='Distplot of Factors')\n"
   ]
  },
  {
   "attachments": {
    "image.png": {
     "image/png": "[encoded data removed]"
    }
   },
   "cell_type": "markdown",
   "metadata": {},
   "source": [
    "![image.png](attachment:image.png)"
   ]
  },
  {
   "cell_type": "markdown",
   "metadata": {},
   "source": [
    "<div><h3>Distribution of Attitudes</h3></div>\n",
    "<div>The above logarithmic distribution chart shows the distribution and weighting of decisions in each of the categories noted in the legend in the top right of the image. The data shows that there is a strong correlation of answers between Learning New Technology and Auditory Environment(the darker red on the largest column is green) and similarly showing through the frequency sign wave generated, it can be observed that the green and red waves are of a similar magnitude at this point. Also towards the right of the graph it can be seen that a very similar concentration of opinions exists with regards to overall happiness, and this corroborates the idea that one will influence the other in a positive or negative fashion.</div>"
   ]
  },
  {
   "cell_type": "code",
   "execution_count": null,
   "metadata": {},
   "outputs": [],
   "source": [
    "import plotly.plotly as py\n",
    "import plotly.graph_objs as go\n",
    "\n",
    "# Scientific libraries\n",
    "import numpy as np\n",
    "from scipy.optimize import curve_fit\n",
    "\n",
    "#import again to ensure all possible data points are hit and there is no information loss\n",
    "surveyAnswers = pd.read_csv('C:/Users/jakem/Desktop/Data_Sets/survey_results_public.csv')\n",
    "\n",
    "#switched the values of y and x just to test\n",
    "###switching the y and x was a mistake\n",
    "x = np.array([len(surveyAnswers[(surveyAnswers['JobSatisfaction']==0)]),\n",
    "             len(surveyAnswers[(surveyAnswers['JobSatisfaction']==1)]),\n",
    "             len(surveyAnswers[(surveyAnswers['JobSatisfaction']==2)]),\n",
    "             len(surveyAnswers[(surveyAnswers['JobSatisfaction']==3)]),\n",
    "             len(surveyAnswers[(surveyAnswers['JobSatisfaction']==4)]),\n",
    "             len(surveyAnswers[(surveyAnswers['JobSatisfaction']==5)]),\n",
    "             len(surveyAnswers[(surveyAnswers['JobSatisfaction']==6)]),\n",
    "             len(surveyAnswers[(surveyAnswers['JobSatisfaction']==7)]),\n",
    "             len(surveyAnswers[(surveyAnswers['JobSatisfaction']==8)]),\n",
    "             len(surveyAnswers[(surveyAnswers['JobSatisfaction']==9)]),\n",
    "             len(surveyAnswers[(surveyAnswers['JobSatisfaction']==10)])])\n",
    "y = np.array([10,9,8,7,6,5,4,3,2,1,0])\n",
    "\n",
    "def exponential_func(x, a, b, c):\n",
    "    return a*np.exp(-b*x)+c\n",
    "\n",
    "\n",
    "popt, pcov = curve_fit(exponential_func, x, y, p0=(1, 1e-6, 1))\n",
    "\n",
    "xx = np.linspace(0, 9000, 3000)\n",
    "yy = exponential_func(xx, *popt)\n",
    "\n",
    "# Creating the dataset, and generating the plot\n",
    "trace1 = go.Scatter(\n",
    "                  x=x,\n",
    "                  y=y,\n",
    "                  mode='markers',\n",
    "                  marker=go.Marker(color='rgb(255, 127, 14)'),\n",
    "                  name='Data'\n",
    "                  )\n",
    "\n",
    "trace2 = go.Scatter(\n",
    "                  x=xx,\n",
    "                  y=yy,\n",
    "                  mode='lines',\n",
    "                  marker=go.Marker(color='rgb(31, 119, 180)'),\n",
    "                  name='Fit'\n",
    "                  )\n",
    "\n",
    "annotation = go.Annotation(\n",
    "                  x=2000,\n",
    "                  y=10,\n",
    "                  text='$\\textbf{Fit}: 163.56e^{-0.00097x} - 1.16$',\n",
    "                  showarrow=False\n",
    "                  )\n",
    "layout = go.Layout(\n",
    "                title='Exponential Fit of Job Satisfaction',\n",
    "                plot_bgcolor='rgb(229, 229, 229)',\n",
    "                  xaxis=go.XAxis(zerolinecolor='rgb(255,255,200)', gridcolor='rgb(255,255,255)'),\n",
    "                  yaxis=go.YAxis(zerolinecolor='rgb(255,255,200)', gridcolor='rgb(255,255,255)'),\n",
    "                  annotations=[annotation]\n",
    "                )\n",
    "\n",
    "data = [trace1, trace2]\n",
    "#fig = go.Figure(data=data, layout=layout)\n",
    "\n",
    "#py.plot(fig, filename='Exponential-Fit-in-python')\n",
    "\n",
    "fig = dict( data=data, layout=layout )\n",
    "py.iplot( fig, validate=False)"
   ]
  },
  {
   "cell_type": "markdown",
   "metadata": {},
   "source": [
    "<div><h3>Exponential Curve Fit of Job Satisfaction</h3></div>\n",
    "<div>The above logarithmic chart shows the distribution of data points pertaining to job satisfaction as represented in the developer survey. The curve fit represented shows that there is a significant downward trend in terms of developer happiness. While it might have been expected through the rule of standard deviation, what the data shows is that there is a substantial portion of the developer world that is moderately to severly unhappy with their work situation and job satisfaction. This could be owed to anything from the country of work, the type of work, or all round environment in which they are working. The distribution shows that only (500/64000)0.78% rate their job satisfaction as 10, while a staggering (9000/64000) 14.0625% rate their position as only 2, with the combined votes expressely below the threshold of 5 accounting for almost 50% of total respondents, (31874/64000) 49.8%. </div>"
   ]
  }
 ],
 "metadata": {
  "kernelspec": {
   "display_name": "Python 3",
   "language": "python",
   "name": "python3"
  },
  "language_info": {
   "codemirror_mode": {
    "name": "ipython",
    "version": 3
   },
   "file_extension": ".py",
   "mimetype": "text/x-python",
   "name": "python",
   "nbconvert_exporter": "python",
   "pygments_lexer": "ipython3",
   "version": "3.6.1"
  }
 },
 "nbformat": 4,
 "nbformat_minor": 2
}
