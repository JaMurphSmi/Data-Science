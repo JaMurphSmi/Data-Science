{
 "cells": [
  {
   "cell_type": "markdown",
   "metadata": {},
   "source": [
    "<div align=center><h3>Goal Number 6</h3></div>\n",
    "<div align=center>Within this Notebook I will be exploring the distribution and opinion of developers regarding a word,<br> or file extension, known to millions of people the world over, GIF. The objective here is to quantify,<br> using the records given in the Stack Overflow survey, from which this project draws it's dataset <br>(available @ : <a href=\"https://insights.stackoverflow.com/survey/\">Stack Overflow Developer Survey</a>), the consensus of pronunciation of the word GIF<br> by the programming population active on Stack Overflow. After initial steps to assess the general<br> pronunciation of the word by developers globally, the search shall be refined to investigate if there<br> is any correlation between a developer's pronunciation of the word, and several other aspects of<br> the survey. These will include aspects such as the potential influence of their preference for<br> loud, clicky keyboards, and their enjoyment of debugging</div>"
   ]
  },
  {
   "cell_type": "code",
   "execution_count": 1,
   "metadata": {},
   "outputs": [],
   "source": [
    "import numpy as np # linear algebra\n",
    "import pandas as pd # data processing, CSV file I/O (e.g. pd.read_csv)\n",
    "from pandas.plotting import scatter_matrix\n",
    "\n",
    "import plotly as pltly\n",
    "import plotly.plotly as py\n",
    "import plotly.graph_objs as go\n",
    "from plotly import tools\n",
    "from plotly.offline import iplot, init_notebook_mode\n",
    "#init_notebook_mode(connected=True)\n",
    "import pycountry\n",
    "\n",
    "import matplotlib.pyplot as plt\n",
    "from sklearn.linear_model import LinearRegression\n",
    "\n",
    "pltly.tools.set_credentials_file(username='JakeMurphDS1718', api_key='VzF5mDLdeJvs2Jt9e1yR')\n",
    "%matplotlib inline \n",
    "\n",
    "surveyAnswers = pd.read_csv('C:/Users/jakem/Desktop/Data_Sets/survey_results_public.csv')"
   ]
  },
  {
   "cell_type": "code",
   "execution_count": 2,
   "metadata": {},
   "outputs": [],
   "source": [
    "worldMap = {country.name: country.alpha3 for country in pycountry.countries}\n",
    "worldMapDataList = []\n",
    "\n",
    "for country in worldMap:\n",
    "    worldMapData = {'Country': country, 'Code': worldMap[country], 'Total': (surveyAnswers.Country == country).sum(), \n",
    "                  'With a hard \"g\"' : str(len(surveyAnswers[(surveyAnswers['Country']== country) & (surveyAnswers['PronounceGIF']=='With a hard \"g,\" like \"gift\"')])),\n",
    "                  'With a soft \"g\"': str(len(surveyAnswers[(surveyAnswers['Country']== country) & (surveyAnswers['PronounceGIF']=='With a soft \"g,\" like \"jiff\"')])),\n",
    "                  'Enunciating each letter' : str(len(surveyAnswers[(surveyAnswers['Country']== country) & (surveyAnswers['PronounceGIF']=='Enunciating each letter: \"gee eye eff\"')])),\n",
    "                  'Some other way': str(len(surveyAnswers[(surveyAnswers['Country']== country) & (surveyAnswers['PronounceGIF']=='Some other way')])),\n",
    "                  'NA': str(len(surveyAnswers[(surveyAnswers['Country']== country) & (surveyAnswers['PronounceGIF'].isnull())]))}\n",
    "    worldMapDataList.append(worldMapData)\n",
    "    \n",
    "df = pd.DataFrame(worldMapDataList) # creating panda object"
   ]
  },
  {
   "cell_type": "code",
   "execution_count": 3,
   "metadata": {},
   "outputs": [
    {
     "data": {
      "text/html": [
       "<iframe id=\"igraph\" scrolling=\"no\" style=\"border:none;\" seamless=\"seamless\" src=\"https://plot.ly/~JakeMurphDS1718/412.embed\" height=\"525px\" width=\"100%\"></iframe>"
      ],
      "text/plain": [
       "<plotly.tools.PlotlyDisplay object>"
      ]
     },
     "execution_count": 3,
     "metadata": {},
     "output_type": "execute_result"
    }
   ],
   "source": [
    "df['firstVersion'] = df['Country'] + \"<br>Hard 'g' : \" + df['With a hard \"g\"'] + \"<br>Soft 'g' : \" + df['With a soft \"g\"'] + \"<br>Each letter : \" + df['Enunciating each letter'] + \"<br>Some other way : \" + df['Some other way'] + \"<br>Not dignifying it with an answer : \" + df['NA'] \n",
    "\n",
    "data = [ dict(\n",
    "        type = 'choropleth',\n",
    "        locations = df['Code'],\n",
    "        z = df['Total'],\n",
    "        text = df['firstVersion'],\n",
    "        colorscale = [[0,\"rgb(0,100,0)\"],[0.35,\"rgb(34,139,34)\"],[0.5,\"rgb(50,205,50)\"],\\\n",
    "            [0.6,\"rgb(124,252,0)\"],[0.7,\"rgb(173,255,47)\"],[1,\"rgb(200,250,200)\"]],\n",
    "        autocolorscale = False,\n",
    "        reversescale = True,\n",
    "        marker = dict(\n",
    "            line = dict (\n",
    "                color = 'rgb(180,180,180)',\n",
    "                width = 0.5\n",
    "            ) ),\n",
    "        colorbar = dict(\n",
    "            autotick = False,\n",
    "            tickprefix = '',\n",
    "            title = 'Respondents<br>in Thousands'),\n",
    "      ) ]\n",
    "\n",
    "layout = dict(\n",
    "    title = '2017 Stackoverflow Pronunciation of GIF<br>Dataset Available @ \\\n",
    "            <a href=\"https://insights.stackoverflow.com/survey/\">\\\n",
    "            Stack Overflow Annual Developer Survey</a>',\n",
    "    geo = dict(\n",
    "        showframe = False,\n",
    "        showcoastlines = False,\n",
    "        projection = dict(\n",
    "            type = 'Mercator'\n",
    "        )\n",
    "    )\n",
    ")\n",
    "\n",
    "fig = dict( data=data, layout=layout )\n",
    "py.iplot( fig, validate=False)"
   ]
  },
  {
   "cell_type": "code",
   "execution_count": 4,
   "metadata": {},
   "outputs": [],
   "source": [
    "worldMapDataList2 = []\n",
    "# preestablished country list\n",
    "for country in worldMap:\n",
    "    worldMapData2 = {'Country': country, 'Code': worldMap[country], 'Total': (surveyAnswers.Country == country).sum(), \n",
    "                  'With a hard \"g\"' : str(len(surveyAnswers[(surveyAnswers['Country']== country) & (surveyAnswers['PronounceGIF']=='With a hard \"g,\" like \"gift\"') & (surveyAnswers['ClickyKeys']=='Yes')])),\n",
    "                  'With a soft \"g\"': str(len(surveyAnswers[(surveyAnswers['Country']== country) & (surveyAnswers['PronounceGIF']=='With a soft \"g,\" like \"jiff\"') & (surveyAnswers['ClickyKeys']=='Yes')])),\n",
    "                  'Enunciating each letter' : str(len(surveyAnswers[(surveyAnswers['Country']== country) & (surveyAnswers['PronounceGIF']=='Enunciating each letter: \"gee eye eff\"') & (surveyAnswers['ClickyKeys']=='Yes')])),\n",
    "                  'Some other way': str(len(surveyAnswers[(surveyAnswers['Country']== country) & (surveyAnswers['PronounceGIF']=='Some other way') & (surveyAnswers['ClickyKeys']=='Yes')])),\n",
    "                  'NA': str(len(surveyAnswers[(surveyAnswers['Country']== country) & (surveyAnswers['PronounceGIF'].isnull()) & (surveyAnswers['ClickyKeys']=='Yes')]))}\n",
    "    worldMapDataList2.append(worldMapData2)\n",
    "    \n",
    "df2 = pd.DataFrame(worldMapDataList2) # creating panda object"
   ]
  },
  {
   "cell_type": "code",
   "execution_count": 5,
   "metadata": {},
   "outputs": [
    {
     "data": {
      "text/html": [
       "<iframe id=\"igraph\" scrolling=\"no\" style=\"border:none;\" seamless=\"seamless\" src=\"https://plot.ly/~JakeMurphDS1718/414.embed\" height=\"525px\" width=\"100%\"></iframe>"
      ],
      "text/plain": [
       "<plotly.tools.PlotlyDisplay object>"
      ]
     },
     "execution_count": 5,
     "metadata": {},
     "output_type": "execute_result"
    }
   ],
   "source": [
    "df2['secondVersion'] = df2['Country'] + \"<br>Hard 'g' and Clicky Keys : \" + df2['With a hard \"g\"'] + \"<br>Soft 'g' and Clicky Keys : \" + df2['With a soft \"g\"'] + \"<br>Each letter and Clicky Keys : \" + df2['Enunciating each letter'] + \"<br>Some other way and Clicky Keys : \" + df2['Some other way'] + \"<br>Not dignifying it with an answer, but they still like Clicky Keys : \" + df2['NA'] \n",
    "\n",
    "data2 = [ dict(\n",
    "        type = 'choropleth',\n",
    "        locations = df2['Code'],\n",
    "        z = df2['Total'],\n",
    "        text = df2['secondVersion'],\n",
    "        colorscale = [[0,\"rgb(0,100,0)\"],[0.35,\"rgb(34,139,34)\"],[0.5,\"rgb(50,205,50)\"],\\\n",
    "            [0.6,\"rgb(124,252,0)\"],[0.7,\"rgb(173,255,47)\"],[1,\"rgb(200,250,200)\"]],\n",
    "        autocolorscale = False,\n",
    "        reversescale = True,\n",
    "        marker = dict(\n",
    "            line = dict (\n",
    "                color = 'rgb(180,180,180)',\n",
    "                width = 0.5\n",
    "            ) ),\n",
    "        colorbar = dict(\n",
    "            autotick = False,\n",
    "            tickprefix = '',\n",
    "            title = 'Respondents<br>in Thousands'),\n",
    "      ) ]\n",
    "\n",
    "layout2 = dict(\n",
    "    title = '2017 Stackoverflow Pronunciation of GIF and thoughts on Clicky Keyboards<br>Dataset Available @ \\\n",
    "            <a href=\"https://insights.stackoverflow.com/survey/\">\\\n",
    "            Stack Overflow Annual Developer Survey</a>',\n",
    "    geo = dict(\n",
    "        showframe = False,\n",
    "        showcoastlines = False,\n",
    "        projection = dict(\n",
    "            type = 'mercator'\n",
    "        )\n",
    "    )\n",
    ")\n",
    "\n",
    "fig2 = dict( data=data2, layout=layout2 )\n",
    "py.iplot( fig2, validate=False)"
   ]
  },
  {
   "cell_type": "code",
   "execution_count": 6,
   "metadata": {},
   "outputs": [],
   "source": [
    "worldMapDataList3 = []\n",
    "# preestablished country list\n",
    "for country in worldMap:\n",
    "    worldMapData3 = {'Country': country, 'Code': worldMap[country], 'Total': (surveyAnswers.Country == country).sum(), \n",
    "                  'With a hard \"g\"' : str(len(surveyAnswers[(surveyAnswers['Country']== country) & (surveyAnswers['PronounceGIF']=='With a hard \"g,\" like \"gift\"') & (surveyAnswers['ClickyKeys']=='Yes') & ((surveyAnswers['EnjoyDebugging']=='Agree') | (surveyAnswers['EnjoyDebugging']=='Strongly Agree'))])),\n",
    "                  'With a soft \"g\"': str(len(surveyAnswers[(surveyAnswers['Country']== country) & (surveyAnswers['PronounceGIF']=='With a soft \"g,\" like \"jiff\"') & (surveyAnswers['ClickyKeys']=='Yes') & ((surveyAnswers['EnjoyDebugging']=='Agree') | (surveyAnswers['EnjoyDebugging']=='Strongly Agree'))])),\n",
    "                  'Enunciating each letter' : str(len(surveyAnswers[(surveyAnswers['Country']== country) & (surveyAnswers['PronounceGIF']=='Enunciating each letter: \"gee eye eff\"') & (surveyAnswers['ClickyKeys']=='Yes') & ((surveyAnswers['EnjoyDebugging']=='Agree') | (surveyAnswers['EnjoyDebugging']=='Strongly Agree'))])),\n",
    "                  'Some other way': str(len(surveyAnswers[(surveyAnswers['Country']== country) & (surveyAnswers['PronounceGIF']=='Some other way') & (surveyAnswers['ClickyKeys']=='Yes') & ((surveyAnswers['EnjoyDebugging']=='Agree') | (surveyAnswers['EnjoyDebugging']=='Strongly Agree'))])),\n",
    "                  'NA': str(len(surveyAnswers[(surveyAnswers['Country']== country) & (surveyAnswers['PronounceGIF'].isnull()) & (surveyAnswers['ClickyKeys']=='Yes') & ((surveyAnswers['EnjoyDebugging']=='Agree') | (surveyAnswers['EnjoyDebugging']=='Strongly Agree'))]))}\n",
    "    worldMapDataList3.append(worldMapData3)\n",
    "    \n",
    "df3 = pd.DataFrame(worldMapDataList3) # creating panda object"
   ]
  },
  {
   "cell_type": "code",
   "execution_count": 7,
   "metadata": {},
   "outputs": [
    {
     "data": {
      "text/html": [
       "<iframe id=\"igraph\" scrolling=\"no\" style=\"border:none;\" seamless=\"seamless\" src=\"https://plot.ly/~JakeMurphDS1718/416.embed\" height=\"525px\" width=\"100%\"></iframe>"
      ],
      "text/plain": [
       "<plotly.tools.PlotlyDisplay object>"
      ]
     },
     "execution_count": 7,
     "metadata": {},
     "output_type": "execute_result"
    }
   ],
   "source": [
    "df3['thirdVersion'] = df3['Country'] + \"<br>Despicable : \" + df3['With a hard \"g\"'] + \"<br>Scum : \" + df3['With a soft \"g\"'] + \"<br>Barely Human : \" + df3['Enunciating each letter'] + \"<br>Are Monsters : \" + df3['Some other way'] + \"<br>Not dignifying it with an answer, like Clicky Keys and Debugging : \" + df3['NA'] \n",
    "\n",
    "data3 = [ dict(\n",
    "        type = 'choropleth',\n",
    "        locations = df3['Code'],\n",
    "        z = df3['Total'],\n",
    "        text = df3['thirdVersion'],\n",
    "        colorscale = [[0,\"rgb(0,100,0)\"],[0.35,\"rgb(34,139,34)\"],[0.5,\"rgb(50,205,50)\"],\\\n",
    "            [0.6,\"rgb(124,252,0)\"],[0.7,\"rgb(173,255,47)\"],[1,\"rgb(200,250,200)\"]],\n",
    "        autocolorscale = False,\n",
    "        reversescale = True,\n",
    "        marker = dict(\n",
    "            line = dict (\n",
    "                color = 'rgb(180,180,180)',\n",
    "                width = 0.5\n",
    "            ) ),\n",
    "        colorbar = dict(\n",
    "            autotick = False,\n",
    "            tickprefix = '',\n",
    "            title = 'Respondents<br>in Thousands'),\n",
    "      ) ]\n",
    "\n",
    "layout3 = dict(\n",
    "    title = '2017 Stackoverflow Pronunciation of GIF, thoughts on Clicky Keyboards and Debugging<br>Dataset Available @ \\\n",
    "            <a href=\"https://insights.stackoverflow.com/survey/\">\\\n",
    "            Stack Overflow Annual Developer Survey</a>',\n",
    "    geo = dict(\n",
    "        showframe = False,\n",
    "        showcoastlines = False,\n",
    "        projection = dict(\n",
    "            type = 'mercator'\n",
    "        )\n",
    "    )\n",
    ")\n",
    "\n",
    "fig3 = dict( data=data3, layout=layout3 )\n",
    "py.iplot( fig3, validate=False)"
   ]
  },
  {
   "cell_type": "code",
   "execution_count": 8,
   "metadata": {},
   "outputs": [
    {
     "data": {
      "text/plain": [
       "LinearRegression(copy_X=True, fit_intercept=True, n_jobs=1, normalize=False)"
      ]
     },
     "execution_count": 8,
     "metadata": {},
     "output_type": "execute_result"
    }
   ],
   "source": [
    "#type(surveyAnswers['PronounceGIF'])\n",
    "### very difficult clean up to figure out, 2 hours for something so small\n",
    "#cleaning up the answers data for the linear regression algorithm\n",
    "surveyAnswers['PronounceGIF'] = surveyAnswers['PronounceGIF'].replace('With a soft \"g,\" like \"jiff\"', 4)\n",
    "surveyAnswers['PronounceGIF'] = surveyAnswers['PronounceGIF'].replace('With a hard \"g,\" like \"gift\"', 3)\n",
    "surveyAnswers['PronounceGIF'] = surveyAnswers['PronounceGIF'].replace('Enunciating each letter: \"gee eye eff\"', 2)\n",
    "surveyAnswers['PronounceGIF'] = surveyAnswers['PronounceGIF'].replace('Some other way', 1)\n",
    "surveyAnswers = surveyAnswers[surveyAnswers.PronounceGIF.notnull()]\n",
    "\n",
    "surveyAnswers['ClickyKeys'] = surveyAnswers['ClickyKeys'].replace('Yes', 2)\n",
    "surveyAnswers['ClickyKeys'] = surveyAnswers['ClickyKeys'].replace('No', 1)\n",
    "surveyAnswers = surveyAnswers[surveyAnswers.ClickyKeys.notnull()]\n",
    "\n",
    "#print(surveyAnswers['ClickyKeys'])\n",
    "#print(surveyAnswers['PronounceGIF'])\n",
    "\n",
    "#df = df[df.line_race.notnull()]\n",
    "\n",
    "#X = surveyAnswers['ClickyKeys'].values[:,np.newaxis]\n",
    "X = surveyAnswers['PronounceGIF'].values[:,np.newaxis]\n",
    "\n",
    "#y = surveyAnswers['PronounceGIF'].values\n",
    "y = surveyAnswers['ClickyKeys'].values\n",
    "\n",
    "model = LinearRegression()\n",
    "\n",
    "model.fit(X, y)"
   ]
  },
  {
   "cell_type": "code",
   "execution_count": 9,
   "metadata": {},
   "outputs": [
    {
     "data": {
      "image/png": "[encoded data removed]",
      "text/plain": [
       "<matplotlib.figure.Figure at 0x20d3e938940>"
      ]
     },
     "metadata": {},
     "output_type": "display_data"
    }
   ],
   "source": [
    "plt.scatter(X, y,color='b')\n",
    "\n",
    "plt.title('Pronunciation vs Clicky Keys')  \n",
    "plt.xlabel('Pronunciation')  \n",
    "plt.ylabel('Clicky Keys')\n",
    "\n",
    "plt.plot(X, model.predict(X),color='k')\n",
    "\n",
    "plt.show()"
   ]
  },
  {
   "cell_type": "markdown",
   "metadata": {},
   "source": [
    "<div><h3>Pronunciation of GIF vs Like of Clicky Keys</h3></div>\n",
    "<div>While there is very little to non-existent significant correlation between these two variables according to the above graph, to does show a certain trend. While not strongly influential, the graph does present the notion that the more correct a person's pronunciation of the word GIF, the more likely it is that they also dislike noisy keyboards, as one should.</div>"
   ]
  },
  {
   "cell_type": "code",
   "execution_count": 10,
   "metadata": {},
   "outputs": [],
   "source": [
    "surveyAnswers['EnjoyDebugging'] = surveyAnswers['EnjoyDebugging'].replace('Strongly agree', 5)\n",
    "surveyAnswers['EnjoyDebugging'] = surveyAnswers['EnjoyDebugging'].replace('Agree', 4)\n",
    "surveyAnswers['EnjoyDebugging'] = surveyAnswers['EnjoyDebugging'].replace('Somewhat agree', 3)\n",
    "surveyAnswers['EnjoyDebugging'] = surveyAnswers['EnjoyDebugging'].replace('Disagree', 2)\n",
    "surveyAnswers['EnjoyDebugging'] = surveyAnswers['EnjoyDebugging'].replace('Strongly disagree', 1)\n",
    "surveyAnswers = surveyAnswers[surveyAnswers.EnjoyDebugging.notnull()]\n",
    "\n",
    "#print(surveyAnswers['EnjoyDebugging'])"
   ]
  },
  {
   "cell_type": "code",
   "execution_count": 11,
   "metadata": {},
   "outputs": [
    {
     "data": {
      "text/plain": [
       "LinearRegression(copy_X=True, fit_intercept=True, n_jobs=1, normalize=False)"
      ]
     },
     "execution_count": 11,
     "metadata": {},
     "output_type": "execute_result"
    }
   ],
   "source": [
    "X = surveyAnswers['EnjoyDebugging'].values[:,np.newaxis]\n",
    "\n",
    "y = surveyAnswers['PronounceGIF'].values\n",
    "\n",
    "model = LinearRegression()\n",
    "\n",
    "model.fit(X, y)"
   ]
  },
  {
   "cell_type": "code",
   "execution_count": 12,
   "metadata": {},
   "outputs": [
    {
     "data": {
      "image/png": "[encoded data removed]",
      "text/plain": [
       "<matplotlib.figure.Figure at 0x20d3f650cf8>"
      ]
     },
     "metadata": {},
     "output_type": "display_data"
    }
   ],
   "source": [
    "plt.scatter(X, y,color='b')\n",
    "\n",
    "plt.title('Pronunciation vs Enjoyment of Debugging')  \n",
    "plt.xlabel('Enjoy Debugging')  \n",
    "plt.ylabel('Pronunciation')\n",
    "\n",
    "plt.plot(X, model.predict(X),color='k')\n",
    "\n",
    "plt.show()"
   ]
  },
  {
   "cell_type": "markdown",
   "metadata": {},
   "source": [
    "<div><h3>Pronounciation of GIF vs Enjoying Debugging</h3></div>\n",
    "<div>Similar to the previous linear regression graph, it can be seen that there is little to no correlation between a developer's pronunciation of GIF, and their affinity for debugging. A point that can be noted about the information provided by the graph, however, is the fact that the majority of survey respondents who indicated that they enjoy debugging, are also those same people who would pronounce GIF with a hard \"g\", much like the Serbian word глупо(glupo), meaning stupid, dumb, silly, dull, dense, obtuse or crack-brained, much like said respondents.</div>"
   ]
  },
  {
   "cell_type": "code",
   "execution_count": 13,
   "metadata": {},
   "outputs": [
    {
     "data": {
      "text/plain": [
       "LinearRegression(copy_X=True, fit_intercept=True, n_jobs=1, normalize=False)"
      ]
     },
     "execution_count": 13,
     "metadata": {},
     "output_type": "execute_result"
    }
   ],
   "source": [
    "surveyAnswers = surveyAnswers[surveyAnswers.Salary.notnull()]\n",
    "\n",
    "X = surveyAnswers['PronounceGIF'].values[:,np.newaxis]\n",
    "\n",
    "y = surveyAnswers['Salary'].values\n",
    "\n",
    "model = LinearRegression()\n",
    "\n",
    "model.fit(X, y)"
   ]
  },
  {
   "cell_type": "code",
   "execution_count": 14,
   "metadata": {},
   "outputs": [
    {
     "data": {
      "image/png": "[encoded data removed]",
      "text/plain": [
       "<matplotlib.figure.Figure at 0x20d3f459240>"
      ]
     },
     "metadata": {},
     "output_type": "display_data"
    }
   ],
   "source": [
    "plt.scatter(X, y,color='b')\n",
    "plt.title('Pronunciation vs Salary')  \n",
    "plt.xlabel('Pronunciation')  \n",
    "plt.ylabel('Salary') \n",
    "\n",
    "plt.plot(X, model.predict(X),color='k')\n",
    "\n",
    "plt.show()"
   ]
  },
  {
   "cell_type": "markdown",
   "metadata": {},
   "source": [
    "<div><h3>Pronounciation of GIF vs Salary</h3></div>\n",
    "<div>It can be seen in the diagram above that there is a weak, but existing correlation between a developer's pronunciation of the word 'GIF' and the salary level they may achieve in their workplace. This may be due to their work ethic, and ability, or desire to stick to a defined standard, and the resultant teamwork and elegant code that would fit happily into a business's existing codebase. Whatever the actual contextual reasoning behind this correlation is, it results in a deviation of salary of almost \\\\$10,000 globally, and approximately $2500 between pronunciation with a hard 'g' and with a soft 'g'.</div>"
   ]
  },
  {
   "cell_type": "code",
   "execution_count": 15,
   "metadata": {},
   "outputs": [
    {
     "data": {
      "image/png": "[encoded data removed]",
      "text/plain": [
       "<matplotlib.figure.Figure at 0x20d3ea9b588>"
      ]
     },
     "metadata": {},
     "output_type": "display_data"
    }
   ],
   "source": [
    "surveyAnswers[\"TabsSpaces\"] = surveyAnswers[\"TabsSpaces\"].replace('Tabs', 0)\n",
    "surveyAnswers[\"TabsSpaces\"] = surveyAnswers[\"TabsSpaces\"].replace('Spaces', 1)\n",
    "surveyAnswers[\"TabsSpaces\"] = surveyAnswers[\"TabsSpaces\"].replace('Both', 2)\n",
    "\n",
    "surveyAnswers = surveyAnswers[surveyAnswers.TabsSpaces.notnull()]\n",
    "\n",
    "X = surveyAnswers['TabsSpaces'].values[:,np.newaxis]\n",
    "#y = CareerSatisfaction\n",
    "y = surveyAnswers['PronounceGIF'].values\n",
    "\n",
    "model = LinearRegression()\n",
    "\n",
    "model.fit(X, y)\n",
    "\n",
    "plt.scatter(X, y,color='b')\n",
    "\n",
    "plt.plot(X, model.predict(X),color='k')\n",
    "\n",
    "plt.title('Pronunciation of GIF vs Tabs or Spaces')  \n",
    "plt.xlabel('Tabs or Spaces')  \n",
    "plt.ylabel('Pronunciation of GIF')\n",
    "\n",
    "plt.show()"
   ]
  },
  {
   "cell_type": "markdown",
   "metadata": {
    "collapsed": true
   },
   "source": [
    "<div><h3>Pronounciation of GIF vs Tabs or Spaces</h3></div>\n",
    "<div>It can be seen in the diagram above that while there is a weak to non-existent positive or negative correlation between the pronunciation of the word GIF and that individual's preference of tabs or spaces, it can be noted from the location of the predictive line within the graph that it is heavily weighted towards those who pronounce GIF with a hard 'g' are the ones most likely to actually provide such a question with an answer. This may be owed to their neglect as a child, or some other deep-seated psychopathic tendency, or simply because they're actually willing to provide an answer for the survey...</div>"
   ]
  },
  {
   "cell_type": "code",
   "execution_count": 16,
   "metadata": {},
   "outputs": [],
   "source": [
    "surveyAnswers['EducationImportant'] = surveyAnswers['EducationImportant'].replace('Very important', 5)\n",
    "surveyAnswers['EducationImportant'] = surveyAnswers['EducationImportant'].replace('Important', 4)\n",
    "surveyAnswers['EducationImportant'] = surveyAnswers['EducationImportant'].replace('Somewhat important', 3)\n",
    "surveyAnswers['EducationImportant'] = surveyAnswers['EducationImportant'].replace('Not very important', 2)\n",
    "surveyAnswers['EducationImportant'] = surveyAnswers['EducationImportant'].replace('Not at all important', 1)\n",
    "surveyAnswers = surveyAnswers[surveyAnswers.EducationImportant.notnull()]"
   ]
  },
  {
   "cell_type": "code",
   "execution_count": 17,
   "metadata": {},
   "outputs": [
    {
     "data": {
      "image/png": "[encoded data removed]",
      "text/plain": [
       "<matplotlib.figure.Figure at 0x20d38824ef0>"
      ]
     },
     "metadata": {},
     "output_type": "display_data"
    }
   ],
   "source": [
    "X = surveyAnswers['PronounceGIF'].values[:,np.newaxis]\n",
    "#y = CareerSatisfaction\n",
    "y = surveyAnswers['EducationImportant'].values\n",
    "\n",
    "model = LinearRegression()\n",
    "\n",
    "model.fit(X, y)\n",
    "\n",
    "plt.scatter(X, y,color='b')\n",
    "\n",
    "plt.plot(X, model.predict(X),color='k')\n",
    "\n",
    "plt.title('Pronunciation of GIF vs Education Importance')  \n",
    "plt.xlabel('Education Importance')  \n",
    "plt.ylabel('Pronunciation of GIF')\n",
    "\n",
    "plt.show()"
   ]
  },
  {
   "cell_type": "markdown",
   "metadata": {},
   "source": [
    "<div><h3>Pronounciation of GIF vs Education Importance</h3></div>\n",
    "<div>It can be seen in the diagram above that while there is, once again a quite weak correlation within this comparison, it can be noted once again that the weighting lies heavier with those who pronounce GIF with a hard 'g'. This shows that, while obviously an assumption, those who pronounce GIF with a hard 'g' are more likely to provide answers to questions that are not quite as serious as those concerning salary or career satisfaction, most likely due to the trivial nature of these more casual rapidfire questions.\n",
    "The result of this linear regression test is also that it appears there is a general consensus that in all pronunciations of GIF, the programming populace only believe a formal education in the programming world to be only somewhat important.</div>"
   ]
  },
  {
   "cell_type": "code",
   "execution_count": null,
   "metadata": {},
   "outputs": [],
   "source": []
  }
 ],
 "metadata": {
  "kernelspec": {
   "display_name": "Python 3",
   "language": "python",
   "name": "python3"
  },
  "language_info": {
   "codemirror_mode": {
    "name": "ipython",
    "version": 3
   },
   "file_extension": ".py",
   "mimetype": "text/x-python",
   "name": "python",
   "nbconvert_exporter": "python",
   "pygments_lexer": "ipython3",
   "version": "3.6.1"
  }
 },
 "nbformat": 4,
 "nbformat_minor": 2
}
